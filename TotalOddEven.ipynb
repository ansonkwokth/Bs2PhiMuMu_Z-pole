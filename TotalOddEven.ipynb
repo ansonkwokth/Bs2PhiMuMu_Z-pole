{
  "nbformat": 4,
  "nbformat_minor": 0,
  "metadata": {
    "colab": {
      "provenance": [],
      "authorship_tag": "ABX9TyMhZyi2V0N3xNdmlVwGmrKe",
      "include_colab_link": true
    },
    "kernelspec": {
      "name": "python3",
      "display_name": "Python 3"
    },
    "language_info": {
      "name": "python"
    }
  },
  "cells": [
    {
      "cell_type": "markdown",
      "metadata": {
        "id": "view-in-github",
        "colab_type": "text"
      },
      "source": [
        "<a href=\"https://colab.research.google.com/github/ansonkwokth/Bs2PhiMuMu_Z-pole/blob/master/TotalOddEven.ipynb\" target=\"_parent\"><img src=\"https://colab.research.google.com/assets/colab-badge.svg\" alt=\"Open In Colab\"/></a>"
      ]
    },
    {
      "cell_type": "code",
      "execution_count": 1,
      "metadata": {
        "colab": {
          "base_uri": "https://localhost:8080/"
        },
        "id": "cSsMB6ZYvQsC",
        "outputId": "f13d4a37-83e5-484e-d846-8bf7b5f0d39d"
      },
      "outputs": [
        {
          "output_type": "stream",
          "name": "stdout",
          "text": [
            "Cloning into 'TableTennisPrediction'...\n",
            "remote: Enumerating objects: 295, done.\u001b[K\n",
            "remote: Counting objects: 100% (134/134), done.\u001b[K\n",
            "remote: Compressing objects: 100% (119/119), done.\u001b[K\n",
            "remote: Total 295 (delta 81), reused 15 (delta 15), pack-reused 161 (from 1)\u001b[K\n",
            "Receiving objects: 100% (295/295), 4.10 MiB | 7.70 MiB/s, done.\n",
            "Resolving deltas: 100% (149/149), done.\n",
            "/content/TableTennisPrediction\n"
          ]
        }
      ],
      "source": [
        "!git clone https://github.com/ansonkwokth/TableTennisPrediction.git\n",
        "%cd TableTennisPrediction"
      ]
    },
    {
      "cell_type": "code",
      "source": [
        "\n",
        "import pandas as pd\n",
        "from tabulate import tabulate\n",
        "from utils import data_loader as dl\n",
        "\n",
        "import numpy as np\n",
        "from model.Elo import Elo\n",
        "from model.ModifiedElo import ModifiedElo\n",
        "from model.ensemble import BaggingRatingSystem\n",
        "\n",
        "import matplotlib.pyplot as plt\n",
        "import seaborn as sns\n",
        "\n",
        "from tqdm import tqdm\n",
        "\n",
        "import copy\n",
        "\n",
        "import warnings\n",
        "warnings.filterwarnings('ignore')\n",
        "\n",
        "import itertools"
      ],
      "metadata": {
        "id": "cz2DlYKgvT6M"
      },
      "execution_count": 37,
      "outputs": []
    },
    {
      "cell_type": "code",
      "source": [
        "def cal_odd_even(ps_set):\n",
        "    odd = 0\n",
        "    even = 0\n",
        "    for k, v in ps_set.items():\n",
        "        if (k % 2) == 0:\n",
        "            even += v\n",
        "        else:\n",
        "            odd += v\n",
        "    return {-1: odd, 1: even}\n"
      ],
      "metadata": {
        "id": "0GhoSL8lvim6"
      },
      "execution_count": 209,
      "outputs": []
    },
    {
      "cell_type": "code",
      "source": [
        "def find_out():\n",
        "\n",
        "    possible_outcomes = []\n",
        "\n",
        "\n",
        "    # Loop over all combinations of sets where one player wins 3 sets\n",
        "    for i in itertools.product([1, 2], repeat=5):  # Max 5 sets\n",
        "        # Count how many sets each player wins\n",
        "        p1_sets_won = i.count(1)\n",
        "        p2_sets_won = i.count(2)\n",
        "\n",
        "        if p1_sets_won == 3 and p2_sets_won < 3:  # Player 1 wins\n",
        "            possible_outcomes.append(i)\n",
        "        elif p2_sets_won == 3 and p1_sets_won < 3:  # Player 2 wins\n",
        "            possible_outcomes.append(i)\n",
        "\n",
        "\n",
        "\n",
        "\n",
        "    possible_outcomes_clean = []\n",
        "    for out in possible_outcomes:\n",
        "        out_clean = []\n",
        "        win1 = 0\n",
        "        win2 = 0\n",
        "        for i in out:\n",
        "            out_clean.append(i)\n",
        "            if i == 1: win1 += 1\n",
        "            if i == 2: win2 += 1\n",
        "\n",
        "            if win1 == 3 or win2 == 3:\n",
        "                possible_outcomes_clean.append(out_clean)\n",
        "                break\n",
        "\n",
        "    return possible_outcomes_clean"
      ],
      "metadata": {
        "id": "cSWWhd20whbj"
      },
      "execution_count": 210,
      "outputs": []
    },
    {
      "cell_type": "code",
      "source": [
        "\n",
        "def find_oe(out):\n",
        "    possible_OE_outcomes = []\n",
        "    # Loop over all combinations of sets where one player wins 3 sets\n",
        "    for i in itertools.product([1, -1], repeat=len(out)):  # Max 5 sets\n",
        "        possible_OE_outcomes.append(i)\n",
        "    return possible_OE_outcomes\n"
      ],
      "metadata": {
        "id": "9QF9nSAS4JoE"
      },
      "execution_count": 211,
      "outputs": []
    },
    {
      "cell_type": "code",
      "source": [
        "def find_p_oe(oe_p_sets, possible_outcomes_clean):\n",
        "    p_parity = {-1: 0, 1: 0}\n",
        "\n",
        "\n",
        "    for out in possible_outcomes_clean:\n",
        "\n",
        "        possible_OE_outcomes = find_oe(out)\n",
        "        for oe in possible_OE_outcomes:\n",
        "\n",
        "            win1 = 0\n",
        "            win2 = 0\n",
        "            parity = 1\n",
        "            p_tot = 1\n",
        "            for i, winner in enumerate(out):\n",
        "                prty = oe[i]\n",
        "\n",
        "                if winner == 1: win1 += 1\n",
        "                if winner == 2: win2 += 1\n",
        "\n",
        "                parity *= prty\n",
        "\n",
        "                p_set = oe_p_sets[winner]\n",
        "\n",
        "                p_tot *= p_set[prty]\n",
        "\n",
        "                if win1 == 3 or win2 == 3:\n",
        "                    p_parity[parity] += p_tot\n",
        "                    break\n",
        "\n",
        "    return p_parity"
      ],
      "metadata": {
        "id": "Rfp8AEjux5lJ"
      },
      "execution_count": 198,
      "outputs": []
    },
    {
      "cell_type": "code",
      "source": [
        "modelMElo = ModifiedElo()"
      ],
      "metadata": {
        "id": "gVIRkIVO-inY"
      },
      "execution_count": 213,
      "outputs": []
    },
    {
      "cell_type": "code",
      "source": [
        "x = np.linspace(0.1, 0.9, 100)\n",
        "y = []\n",
        "\n",
        "for pwin in x:\n",
        "    ps_set1 = modelMElo.predict_set_config_from_p(pwin)\n",
        "    ps_set2 = modelMElo.predict_set_config_from_p(1 - pwin)\n",
        "\n",
        "    p_oe1 = cal_odd_even(ps_set1)\n",
        "    p_oe2 = cal_odd_even(ps_set2)\n",
        "    oe_p_sets = {1: p_oe1, 2: p_oe2}\n",
        "    possible_outcomes_clean = find_out()\n",
        "    y.append((find_p_oe(oe_p_sets, possible_outcomes_clean))[-1])\n",
        "\n",
        "y = np.array(y)"
      ],
      "metadata": {
        "id": "qYaqIe-bx988"
      },
      "execution_count": 222,
      "outputs": []
    },
    {
      "cell_type": "code",
      "source": [
        "plt.plot(x, y)\n",
        "plt.plot(x, 1-y)\n",
        "plt.axhline(1/1.83)"
      ],
      "metadata": {
        "colab": {
          "base_uri": "https://localhost:8080/",
          "height": 447
        },
        "id": "427MCswm5SHH",
        "outputId": "3e429f7c-7516-4cee-a83a-bfc56d9612ce"
      },
      "execution_count": 224,
      "outputs": [
        {
          "output_type": "execute_result",
          "data": {
            "text/plain": [
              "<matplotlib.lines.Line2D at 0x7ebfd4ede190>"
            ]
          },
          "metadata": {},
          "execution_count": 224
        },
        {
          "output_type": "display_data",
          "data": {
            "text/plain": [
              "<Figure size 640x480 with 1 Axes>"
            ],
            "image/png": "[encoded data removed]"
          },
          "metadata": {}
        }
      ]
    },
    {
      "cell_type": "code",
      "source": [],
      "metadata": {
        "id": "Q9zuCQEX-xcc"
      },
      "execution_count": 223,
      "outputs": []
    }
  ]
}